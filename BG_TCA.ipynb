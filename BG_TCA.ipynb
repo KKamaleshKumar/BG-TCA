{
  "nbformat": 4,
  "nbformat_minor": 0,
  "metadata": {
    "kernelspec": {
      "language": "python",
      "display_name": "Python 3",
      "name": "python3"
    },
    "language_info": {
      "name": "python",
      "version": "3.7.10",
      "mimetype": "text/x-python",
      "codemirror_mode": {
        "name": "ipython",
        "version": 3
      },
      "pygments_lexer": "ipython3",
      "nbconvert_exporter": "python",
      "file_extension": ".py"
    },
    "colab": {
      "name": "BG-TCA.ipynb",
      "provenance": [],
      "collapsed_sections": []
    },
    "accelerator": "GPU"
  },
  "cells": [
    {
      "cell_type": "code",
      "metadata": {
        "colab": {
          "base_uri": "https://localhost:8080/",
          "height": 472
        },
        "id": "Jp9pLdn51EVx",
        "outputId": "666e4088-1a7a-4c2c-a98f-e36d32637e58"
      },
      "source": [
        "import wandb\n",
        "wandb.init()\n"
      ],
      "execution_count": null,
      "outputs": [
        {
          "output_type": "stream",
          "name": "stderr",
          "text": [
            "\u001b[34m\u001b[1mwandb\u001b[0m: Currently logged in as: \u001b[33mkkamalesh\u001b[0m (use `wandb login --relogin` to force relogin)\n"
          ]
        },
        {
          "output_type": "display_data",
          "data": {
            "text/html": [
              "\n",
              "                    Syncing run <strong><a href=\"https://wandb.ai/kkamalesh/uncategorized/runs/bxkt2i6b\" target=\"_blank\">easy-fire-2</a></strong> to <a href=\"https://wandb.ai/kkamalesh/uncategorized\" target=\"_blank\">Weights & Biases</a> (<a href=\"https://docs.wandb.com/integrations/jupyter.html\" target=\"_blank\">docs</a>).<br/>\n",
              "\n",
              "                "
            ],
            "text/plain": [
              "<IPython.core.display.HTML object>"
            ]
          },
          "metadata": {}
        },
        {
          "output_type": "execute_result",
          "data": {
            "text/plain": [
              "<wandb.sdk.wandb_run.Run at 0x7fa9687120d0>"
            ],
            "text/html": [
              "<button onClick=\"this.nextSibling.style.display='block';this.style.display='none';\">Display W&B run</button><iframe src=\"https://wandb.ai/kkamalesh/uncategorized/runs/bxkt2i6b?jupyter=true\" style=\"border:none;width:100%;height:420px;display:none;\"></iframe>"
            ]
          },
          "metadata": {},
          "execution_count": 1
        }
      ]
    },
    {
      "cell_type": "code",
      "metadata": {
        "id": "competitive-claim",
        "execution": {
          "iopub.status.busy": "2021-11-09T19:02:23.398362Z",
          "iopub.execute_input": "2021-11-09T19:02:23.398801Z",
          "iopub.status.idle": "2021-11-09T19:02:26.359995Z",
          "shell.execute_reply.started": "2021-11-09T19:02:23.398697Z",
          "shell.execute_reply": "2021-11-09T19:02:26.359121Z"
        },
        "trusted": true,
        "colab": {
          "base_uri": "https://localhost:8080/"
        },
        "outputId": "70d8acb3-569a-4d60-a75a-fc858ebe7f96"
      },
      "source": [
        "import  os\n",
        "import re\n",
        "import  pandas as pd\n",
        "import  numpy as np\n",
        "import  torch\n",
        "import torch.nn as nn\n",
        "import  torch.nn.functional as F\n",
        "import matplotlib.pyplot as plt\n",
        "from torch.nn.utils import weight_norm\n",
        "import torch.optim as optim\n",
        "import string \n",
        "import math\n",
        "import nltk\n",
        "nltk.download('stopwords')\n",
        "nltk.download('wordnet')\n",
        "nltk.download('punkt')\n",
        "from sklearn.model_selection import train_test_split\n",
        "from nltk.corpus import stopwords\n",
        "from nltk.tokenize import word_tokenize\n",
        "from nltk.stem import WordNetLemmatizer\n",
        "#from sklearn.preprocessing import LabelEncoder\n",
        "import gensim.downloader as api\n",
        "from gensim.models import KeyedVectors\n",
        "from torch.utils.data import DataLoader\n",
        "import random\n",
        "from collections import Counter\n",
        "from sklearn.utils.class_weight import compute_class_weight\n",
        "from google.colab import drive\n",
        "drive.mount('/content/drive')"
      ],
      "execution_count": null,
      "outputs": [
        {
          "output_type": "stream",
          "name": "stdout",
          "text": [
            "[nltk_data] Downloading package stopwords to /root/nltk_data...\n",
            "[nltk_data]   Package stopwords is already up-to-date!\n",
            "[nltk_data] Downloading package wordnet to /root/nltk_data...\n",
            "[nltk_data]   Package wordnet is already up-to-date!\n",
            "[nltk_data] Downloading package punkt to /root/nltk_data...\n",
            "[nltk_data]   Package punkt is already up-to-date!\n",
            "Drive already mounted at /content/drive; to attempt to forcibly remount, call drive.mount(\"/content/drive\", force_remount=True).\n"
          ]
        }
      ]
    },
    {
      "cell_type": "code",
      "metadata": {
        "id": "fitting-february",
        "execution": {
          "iopub.status.busy": "2021-11-09T19:02:26.361935Z",
          "iopub.execute_input": "2021-11-09T19:02:26.362194Z",
          "iopub.status.idle": "2021-11-09T19:02:27.313040Z",
          "shell.execute_reply.started": "2021-11-09T19:02:26.362158Z",
          "shell.execute_reply": "2021-11-09T19:02:27.312293Z"
        },
        "trusted": true
      },
      "source": [
        "os.chdir('/content/drive/MyDrive/data')\n",
        "train_data=pd.read_csv('train.csv').to_numpy()\n",
        "np.random.shuffle(train_data)"
      ],
      "execution_count": null,
      "outputs": []
    },
    {
      "cell_type": "code",
      "metadata": {
        "execution": {
          "iopub.status.busy": "2021-11-09T19:02:58.492649Z",
          "iopub.execute_input": "2021-11-09T19:02:58.492915Z",
          "iopub.status.idle": "2021-11-09T19:02:58.554691Z",
          "shell.execute_reply.started": "2021-11-09T19:02:58.492886Z",
          "shell.execute_reply": "2021-11-09T19:02:58.554032Z"
        },
        "trusted": true,
        "id": "rWzRxBrpNiqe"
      },
      "source": [
        "classes=np.unique(train_data[:,3])\n",
        "label=train_data[:,3]\n"
      ],
      "execution_count": null,
      "outputs": []
    },
    {
      "cell_type": "code",
      "metadata": {
        "id": "3tpDoO5ebWnW"
      },
      "source": [
        "class_weight=torch.tensor(compute_class_weight('balanced',classes=classes,y=label)).type(torch.FloatTensor)"
      ],
      "execution_count": null,
      "outputs": []
    },
    {
      "cell_type": "code",
      "metadata": {
        "id": "Tip5G9jPaATk"
      },
      "source": [
        "#torch.cuda.is_available()"
      ],
      "execution_count": null,
      "outputs": []
    },
    {
      "cell_type": "code",
      "metadata": {
        "execution": {
          "iopub.status.busy": "2021-11-09T19:02:58.556283Z",
          "iopub.execute_input": "2021-11-09T19:02:58.556526Z",
          "iopub.status.idle": "2021-11-09T19:02:58.560861Z",
          "shell.execute_reply.started": "2021-11-09T19:02:58.556494Z",
          "shell.execute_reply": "2021-11-09T19:02:58.560218Z"
        },
        "trusted": true,
        "id": "Sh7fmtz3Niqe"
      },
      "source": [
        "#Counter(train_data[:,3])"
      ],
      "execution_count": null,
      "outputs": []
    },
    {
      "cell_type": "code",
      "metadata": {
        "execution": {
          "iopub.status.busy": "2021-11-09T19:03:22.655824Z",
          "iopub.execute_input": "2021-11-09T19:03:22.656754Z",
          "iopub.status.idle": "2021-11-09T19:06:38.078566Z",
          "shell.execute_reply.started": "2021-11-09T19:03:22.656707Z",
          "shell.execute_reply": "2021-11-09T19:06:38.077685Z"
        },
        "trusted": true,
        "id": "nQ22KMUbNiqf"
      },
      "source": [
        "#glove=KeyedVectors.load_word2vec_format('/kaggle/input/glove300/glove_300.txt',binary=False)"
      ],
      "execution_count": null,
      "outputs": []
    },
    {
      "cell_type": "code",
      "metadata": {
        "id": "fb521b42-2e2d-46e9-a09a-bdfffc2db8d5",
        "execution": {
          "iopub.status.busy": "2021-11-09T19:08:02.232290Z",
          "iopub.execute_input": "2021-11-09T19:08:02.232559Z",
          "iopub.status.idle": "2021-11-09T19:08:02.300095Z",
          "shell.execute_reply.started": "2021-11-09T19:08:02.232522Z",
          "shell.execute_reply": "2021-11-09T19:08:02.299206Z"
        },
        "trusted": true
      },
      "source": [
        "train_data=np.column_stack((train_data[:,0]+' '+train_data[:,1],train_data[:,3]))"
      ],
      "execution_count": null,
      "outputs": []
    },
    {
      "cell_type": "code",
      "metadata": {
        "id": "7711c643-db2f-4b8c-86d8-82cce97eabdf",
        "execution": {
          "iopub.status.busy": "2021-11-09T19:08:08.517287Z",
          "iopub.execute_input": "2021-11-09T19:08:08.517570Z",
          "iopub.status.idle": "2021-11-09T19:08:08.800874Z",
          "shell.execute_reply.started": "2021-11-09T19:08:08.517538Z",
          "shell.execute_reply": "2021-11-09T19:08:08.800115Z"
        },
        "trusted": true
      },
      "source": [
        "sample=pd.read_csv('train.csv').to_numpy()"
      ],
      "execution_count": null,
      "outputs": []
    },
    {
      "cell_type": "code",
      "metadata": {
        "id": "spectacular-turkish",
        "execution": {
          "iopub.status.busy": "2021-11-09T19:08:08.802588Z",
          "iopub.execute_input": "2021-11-09T19:08:08.802865Z",
          "iopub.status.idle": "2021-11-09T19:09:13.255451Z",
          "shell.execute_reply.started": "2021-11-09T19:08:08.802830Z",
          "shell.execute_reply": "2021-11-09T19:09:13.254721Z"
        },
        "trusted": true
      },
      "source": [
        "stop_words=set(stopwords.words('english'))\n",
        "lemmatizer=WordNetLemmatizer()\n",
        "for i,data in enumerate(train_data[:,0]):\n",
        "    data=data.lower()  \n",
        "    data=re.sub(r'\\d+','',data) \n",
        "    data=data.translate(str.maketrans('','', string.punctuation)) \n",
        "    data=[data.strip()]\n",
        "    data=word_tokenize(data[0]) \n",
        "    data=[y for y in  data if not y in stop_words]\n",
        "    data=[lemmatizer.lemmatize(y) for y in data] \n",
        "    train_data[i,0]=data"
      ],
      "execution_count": null,
      "outputs": []
    },
    {
      "cell_type": "code",
      "metadata": {
        "id": "ab26b849-b8d1-4587-89bd-72d98a1d9ec9",
        "execution": {
          "iopub.status.busy": "2021-11-09T19:09:13.256576Z",
          "iopub.execute_input": "2021-11-09T19:09:13.256928Z",
          "iopub.status.idle": "2021-11-09T19:09:13.260805Z",
          "shell.execute_reply.started": "2021-11-09T19:09:13.256887Z",
          "shell.execute_reply": "2021-11-09T19:09:13.259867Z"
        },
        "trusted": true
      },
      "source": [
        "#train_data=np.array(sorted(train_data,key=lambda x:len(x[0])))"
      ],
      "execution_count": null,
      "outputs": []
    },
    {
      "cell_type": "code",
      "metadata": {
        "id": "7b63d99d-9969-45b8-b000-8714320fc842",
        "execution": {
          "iopub.status.busy": "2021-11-09T19:09:13.262710Z",
          "iopub.execute_input": "2021-11-09T19:09:13.263377Z",
          "iopub.status.idle": "2021-11-09T19:09:13.271652Z",
          "shell.execute_reply.started": "2021-11-09T19:09:13.263342Z",
          "shell.execute_reply": "2021-11-09T19:09:13.270889Z"
        },
        "trusted": true
      },
      "source": [
        "sample2=train_data"
      ],
      "execution_count": null,
      "outputs": []
    },
    {
      "cell_type": "code",
      "metadata": {
        "id": "motivated-savings",
        "execution": {
          "iopub.status.busy": "2021-11-09T19:09:13.272952Z",
          "iopub.execute_input": "2021-11-09T19:09:13.273205Z",
          "iopub.status.idle": "2021-11-09T19:09:13.282213Z",
          "shell.execute_reply.started": "2021-11-09T19:09:13.273173Z",
          "shell.execute_reply": "2021-11-09T19:09:13.281623Z"
        },
        "trusted": true
      },
      "source": [
        "length=train_data.shape[0]\n",
        "description,target_ind=np.split(train_data,2,axis=1)\n",
        "description=np.reshape(description,(length,))  # array of lists\n",
        "target_ind=np.reshape(target_ind,(length,))"
      ],
      "execution_count": null,
      "outputs": []
    },
    {
      "cell_type": "code",
      "metadata": {
        "id": "amazing-guarantee",
        "execution": {
          "iopub.status.busy": "2021-11-09T19:09:13.283559Z",
          "iopub.execute_input": "2021-11-09T19:09:13.283832Z",
          "iopub.status.idle": "2021-11-09T19:09:13.293354Z",
          "shell.execute_reply.started": "2021-11-09T19:09:13.283797Z",
          "shell.execute_reply": "2021-11-09T19:09:13.292624Z"
        },
        "trusted": true
      },
      "source": [
        "description_train,description_test,target_train,target_test=train_test_split(description,target_ind,test_size=0.125,shuffle=False)\n",
        "len_train=len(target_train)\n",
        "len_test=len(target_test)"
      ],
      "execution_count": null,
      "outputs": []
    },
    {
      "cell_type": "code",
      "metadata": {
        "id": "nuclear-threshold",
        "execution": {
          "iopub.status.busy": "2021-11-09T19:09:13.296137Z",
          "iopub.execute_input": "2021-11-09T19:09:13.296331Z",
          "iopub.status.idle": "2021-11-09T19:09:13.552127Z",
          "shell.execute_reply.started": "2021-11-09T19:09:13.296309Z",
          "shell.execute_reply": "2021-11-09T19:09:13.551424Z"
        },
        "trusted": true,
        "colab": {
          "base_uri": "https://localhost:8080/"
        },
        "outputId": "511cdda2-d3b3-43f0-ab5f-d68f0b25f739"
      },
      "source": [
        "test_data=pd.read_csv('test.csv').to_numpy()\n",
        "test_data.shape"
      ],
      "execution_count": null,
      "outputs": [
        {
          "output_type": "execute_result",
          "data": {
            "text/plain": [
              "(8106, 3)"
            ]
          },
          "metadata": {},
          "execution_count": 16
        }
      ]
    },
    {
      "cell_type": "code",
      "metadata": {
        "execution": {
          "iopub.status.busy": "2021-11-09T19:09:13.553341Z",
          "iopub.execute_input": "2021-11-09T19:09:13.554855Z",
          "iopub.status.idle": "2021-11-09T19:09:13.558835Z",
          "shell.execute_reply.started": "2021-11-09T19:09:13.554813Z",
          "shell.execute_reply": "2021-11-09T19:09:13.557812Z"
        },
        "trusted": true,
        "id": "NLfRI2K-Niqj"
      },
      "source": [
        "glove=api.load('glove-wiki-gigaword-300')"
      ],
      "execution_count": null,
      "outputs": []
    },
    {
      "cell_type": "code",
      "metadata": {
        "id": "golden-currency",
        "execution": {
          "iopub.status.busy": "2021-11-09T19:09:13.560085Z",
          "iopub.execute_input": "2021-11-09T19:09:13.560422Z",
          "iopub.status.idle": "2021-11-09T19:09:13.568484Z",
          "shell.execute_reply.started": "2021-11-09T19:09:13.560384Z",
          "shell.execute_reply": "2021-11-09T19:09:13.567832Z"
        },
        "trusted": true
      },
      "source": [
        "EMB_DIM=300\n",
        "#BATCH_SIZE=64"
      ],
      "execution_count": null,
      "outputs": []
    },
    {
      "cell_type": "code",
      "metadata": {
        "id": "jewish-broadway",
        "execution": {
          "iopub.status.busy": "2021-11-09T19:14:41.505121Z",
          "iopub.execute_input": "2021-11-09T19:14:41.505464Z",
          "iopub.status.idle": "2021-11-09T19:14:41.516420Z",
          "shell.execute_reply.started": "2021-11-09T19:14:41.505419Z",
          "shell.execute_reply": "2021-11-09T19:14:41.515764Z"
        },
        "trusted": true
      },
      "source": [
        "class  word_embedding(nn.Module):\n",
        "    \n",
        "    def __init__(self,token,emb_dim):  #here token is a list\n",
        "\n",
        "        super(word_embedding,self).__init__()  \n",
        "        self.emb_dim=emb_dim\n",
        "        self.vocab_length=len(token)\n",
        "        self.weight_matrix=np.zeros((self.vocab_length,self.emb_dim))\n",
        "        self.emd_layer=nn.Embedding(self.vocab_length,self.emb_dim)\n",
        "        check_word=np.array([1 if word in glove.vocab else 0 for word in token])\n",
        "        glove_avg=np.zeros(emb_dim)\n",
        "        if np.count_nonzero(check_word)==0:\n",
        "          self.weight_matrix=np.random.normal(size=(self.vocab_length,self.emb_dim))\n",
        "        else:\n",
        "          for i in np.argwhere(check_word==1):\n",
        "            word=token[i[0]]\n",
        "            glove_avg=glove_avg+glove[word]\n",
        "            self.weight_matrix[i,:]=glove[word]\n",
        "          glove_avg=glove_avg/np.count_nonzero(check_word)\n",
        "          for i in np.argwhere(check_word==0):\n",
        "            self.weight_matrix[i,:]=glove_avg\n",
        "\n",
        "            '''\n",
        "            try:\n",
        "                self.weight_matrix[i,:]=glove[word]\n",
        "            except KeyError:\n",
        "                std_d=math.sqrt(2/emb_dim)  #he initialisation\n",
        "                self.weight_matrix[i,:]=np.random.normal(scale=std_d,size=(1,emb_dim))'''\n",
        "        self.emd_layer.load_state_dict({'weight':torch.from_numpy(self.weight_matrix)})             \n",
        "              \n",
        "    def forward(self):\n",
        "        \n",
        "        token_tensor=torch.arange(self.vocab_length)\n",
        "        out=self.emd_layer(token_tensor).reshape((1,self.emb_dim,self.vocab_length))\n",
        "        #out.requires_grad=False\n",
        "        return out"
      ],
      "execution_count": null,
      "outputs": []
    },
    {
      "cell_type": "code",
      "metadata": {
        "id": "GugRV0BWuaop"
      },
      "source": [
        "#np.count_nonzero(np.array([1212,323,4343]))"
      ],
      "execution_count": null,
      "outputs": []
    },
    {
      "cell_type": "code",
      "metadata": {
        "execution": {
          "iopub.status.busy": "2021-11-09T19:14:41.517974Z",
          "iopub.execute_input": "2021-11-09T19:14:41.518739Z",
          "iopub.status.idle": "2021-11-09T19:14:41.530220Z",
          "shell.execute_reply.started": "2021-11-09T19:14:41.518700Z",
          "shell.execute_reply": "2021-11-09T19:14:41.529464Z"
        },
        "trusted": true,
        "id": "hgvkDr2SNiqm"
      },
      "source": [
        "def collate_fn(token):\n",
        "  emb=word_embedding(token[0],EMB_DIM)()\n",
        "  emb=emb.detach()\n",
        "  if torch.cuda.is_available():\n",
        "    emb=emb.cuda()\n",
        "  return emb      "
      ],
      "execution_count": null,
      "outputs": []
    },
    {
      "cell_type": "code",
      "metadata": {
        "id": "facial-damage",
        "execution": {
          "iopub.status.busy": "2021-11-09T19:14:41.531454Z",
          "iopub.execute_input": "2021-11-09T19:14:41.532177Z",
          "iopub.status.idle": "2021-11-09T19:14:41.581835Z",
          "shell.execute_reply.started": "2021-11-09T19:14:41.532136Z",
          "shell.execute_reply": "2021-11-09T19:14:41.580487Z"
        },
        "trusted": true
      },
      "source": [
        "description_train=list(DataLoader(description_train,collate_fn=collate_fn))\n"
      ],
      "execution_count": null,
      "outputs": []
    },
    {
      "cell_type": "code",
      "metadata": {
        "id": "bigger-bathroom",
        "execution": {
          "iopub.status.busy": "2021-11-09T19:14:41.582690Z",
          "iopub.status.idle": "2021-11-09T19:14:41.583642Z",
          "shell.execute_reply.started": "2021-11-09T19:14:41.583368Z",
          "shell.execute_reply": "2021-11-09T19:14:41.583394Z"
        },
        "trusted": true
      },
      "source": [
        "description_test=list(DataLoader(description_test,collate_fn=collate_fn))"
      ],
      "execution_count": null,
      "outputs": []
    },
    {
      "cell_type": "code",
      "metadata": {
        "id": "DcSdArZ2Smt6",
        "execution": {
          "iopub.status.busy": "2021-11-09T19:14:41.584908Z",
          "iopub.status.idle": "2021-11-09T19:14:41.585542Z",
          "shell.execute_reply.started": "2021-11-09T19:14:41.585293Z",
          "shell.execute_reply": "2021-11-09T19:14:41.585318Z"
        },
        "trusted": true
      },
      "source": [
        "target_train=list(DataLoader(target_train,collate_fn=None))\n",
        "if torch.cuda.is_available():\n",
        "    target_train=[x.cuda() for x in target_train]"
      ],
      "execution_count": null,
      "outputs": []
    },
    {
      "cell_type": "code",
      "metadata": {
        "id": "mew4EjYXSoq8",
        "execution": {
          "iopub.status.busy": "2021-11-09T19:14:41.586737Z",
          "iopub.status.idle": "2021-11-09T19:14:41.587343Z",
          "shell.execute_reply.started": "2021-11-09T19:14:41.587114Z",
          "shell.execute_reply": "2021-11-09T19:14:41.587137Z"
        },
        "trusted": true
      },
      "source": [
        "target_test=list(DataLoader(target_test,collate_fn=None))\n",
        "if torch.cuda.is_available():\n",
        "    target_test=[x.cuda() for x in target_test]"
      ],
      "execution_count": null,
      "outputs": []
    },
    {
      "cell_type": "code",
      "metadata": {
        "id": "cooked-apple",
        "execution": {
          "iopub.status.busy": "2021-11-09T19:14:41.588502Z",
          "iopub.status.idle": "2021-11-09T19:14:41.589131Z",
          "shell.execute_reply.started": "2021-11-09T19:14:41.588895Z",
          "shell.execute_reply": "2021-11-09T19:14:41.588919Z"
        },
        "trusted": true
      },
      "source": [
        "class trunc1d(nn.Module):\n",
        "    \n",
        "    def __init__(self,padding):\n",
        "        \n",
        "        super(trunc1d,self).__init__()\n",
        "        self.padding=padding\n",
        "        \n",
        "    def forward(self,x):\n",
        "        \n",
        "        return x[:,:,:-self.padding].contiguous()        "
      ],
      "execution_count": null,
      "outputs": []
    },
    {
      "cell_type": "code",
      "metadata": {
        "id": "precious-ministry",
        "execution": {
          "iopub.status.busy": "2021-11-09T19:14:41.590306Z",
          "iopub.status.idle": "2021-11-09T19:14:41.590939Z",
          "shell.execute_reply.started": "2021-11-09T19:14:41.590702Z",
          "shell.execute_reply": "2021-11-09T19:14:41.590726Z"
        },
        "trusted": true
      },
      "source": [
        "class TemporalConvLayer(nn.Module):\n",
        "    \n",
        "    def __init__(self,in_channels,out_channels,kernel_size,padding,dil_factor,stride=1,dropout=0.5):\n",
        "        \n",
        "        super(TemporalConvLayer,self).__init__()\n",
        "        self.conv1=weight_norm(nn.Conv1d(in_channels,out_channels,kernel_size,stride=stride,padding=padding,dilation=dil_factor))\n",
        "        self.conv2=weight_norm(nn.Conv1d(out_channels,out_channels,kernel_size,stride=stride,padding=padding,dilation=dil_factor))\n",
        "        self.trunc=trunc1d(padding)\n",
        "        self.net=nn.Sequential(\n",
        "        self.conv1,\n",
        "        self.trunc,\n",
        "        nn.ReLU(),\n",
        "        nn.Dropout(dropout),\n",
        "        self.conv2,\n",
        "        self.trunc,\n",
        "        nn.ReLU(),\n",
        "        nn.Dropout(dropout))\n",
        "        self.scale_input= nn.Conv1d(in_channels,out_channels,1) if in_channels!=out_channels else None\n",
        "        self.weight_initialise()\n",
        "        \n",
        "    def weight_initialise(self):\n",
        "        \n",
        "        nn.init.kaiming_normal_(self.conv1.weight)\n",
        "        nn.init.kaiming_normal_(self.conv2.weight)\n",
        "        if self.scale_input is not None:\n",
        "            nn.init.kaiming_normal_(self.scale_input.weight)\n",
        "    \n",
        "    def forward(self,x):\n",
        "        \n",
        "        residual=x if self.scale_input is None else self.scale_input(x)\n",
        "        relu=nn.ReLU()\n",
        "        return relu(residual+self.net(x)) #con layer"
      ],
      "execution_count": null,
      "outputs": []
    },
    {
      "cell_type": "code",
      "metadata": {
        "id": "modular-engine",
        "execution": {
          "iopub.status.busy": "2021-11-09T19:14:41.592139Z",
          "iopub.status.idle": "2021-11-09T19:14:41.592771Z",
          "shell.execute_reply.started": "2021-11-09T19:14:41.592510Z",
          "shell.execute_reply": "2021-11-09T19:14:41.592545Z"
        },
        "trusted": true
      },
      "source": [
        "class TemporalConvNetwork(nn.Module):\n",
        "    \n",
        "    def __init__(self,input_channels,channel_arr,kernel_size=4,dropout=0.5):\n",
        "        \n",
        "        super(TemporalConvNetwork,self).__init__()\n",
        "        tc_layers=[]   #temporal convolution layer\n",
        "        num_layers=len(channel_arr)\n",
        "        for i in range(num_layers):\n",
        "            in_channels=input_channels if i==0 else channel_arr[i-1]\n",
        "            out_channels=channel_arr[i]\n",
        "            dil_factor=2**i\n",
        "            padding=(kernel_size-1)*dil_factor\n",
        "            tc_layers+=[TemporalConvLayer(in_channels,out_channels,kernel_size,stride=1,dil_factor=dil_factor,dropout=dropout,padding=padding)]\n",
        "            \n",
        "        self.net=nn.Sequential(*tc_layers)\n",
        "    \n",
        "    def forward(self,x):\n",
        "        \n",
        "        return self.net(x)     #con network   "
      ],
      "execution_count": null,
      "outputs": []
    },
    {
      "cell_type": "code",
      "metadata": {
        "id": "north-elephant",
        "execution": {
          "iopub.status.busy": "2021-11-09T19:14:41.625548Z",
          "iopub.execute_input": "2021-11-09T19:14:41.625849Z",
          "iopub.status.idle": "2021-11-09T19:14:41.633303Z",
          "shell.execute_reply.started": "2021-11-09T19:14:41.625738Z",
          "shell.execute_reply": "2021-11-09T19:14:41.632541Z"
        },
        "trusted": true
      },
      "source": [
        "class GatedTempConvNet(nn.Module):\n",
        "    \n",
        "    def  __init__(self,input_channels,channel_arr,kernel_size=4,dropout=0.5):\n",
        "        \n",
        "        super(GatedTempConvNet,self).__init__()\n",
        "        num_layers=len(channel_arr)\n",
        "        self.output_channels=channel_arr[num_layers-1]\n",
        "        self.net1=nn.Sequential(TemporalConvNetwork(input_channels,channel_arr,kernel_size=4,dropout=0.5),nn.ReLU())\n",
        "        self.net2=TemporalConvNetwork(input_channels,channel_arr,kernel_size=4,dropout=0.5)\n",
        "        self.scale_input=nn.Conv1d(input_channels,self.output_channels,kernel_size=1) if  input_channels!=self.output_channels else None\n",
        "        if self.scale_input is not None:\n",
        "            nn.init.xavier_normal_(self.scale_input.weight)\n",
        "            \n",
        "    def forward(self,x):\n",
        "        \n",
        "        tcn1=self.net1(x)\n",
        "        tcn2=self.net2(x)\n",
        "        residual=x if self.scale_input is None else self.scale_input(x)\n",
        "        y=residual+(tcn1*tcn2)\n",
        "        return y    #gated"
      ],
      "execution_count": null,
      "outputs": []
    },
    {
      "cell_type": "code",
      "metadata": {
        "id": "arctic-static",
        "execution": {
          "iopub.status.busy": "2021-11-09T19:14:41.635356Z",
          "iopub.execute_input": "2021-11-09T19:14:41.635983Z",
          "iopub.status.idle": "2021-11-09T19:14:41.645824Z",
          "shell.execute_reply.started": "2021-11-09T19:14:41.635943Z",
          "shell.execute_reply": "2021-11-09T19:14:41.645175Z"
        },
        "trusted": true
      },
      "source": [
        "class Bidirection(nn.Module):\n",
        "    \n",
        "    def __init__(self,input_channels,channel_arr,kernel_size=4,dropout=0.5):\n",
        "        \n",
        "        super(Bidirection,self).__init__()\n",
        "        self.original_seq=GatedTempConvNet(input_channels,channel_arr,kernel_size=4,dropout=0.5)\n",
        "        self.reverse_seq=GatedTempConvNet(input_channels,channel_arr,kernel_size=4,dropout=0.5)\n",
        "        \n",
        "    def forward(self,x):\n",
        "        \n",
        "        x_forward=self.original_seq(x)\n",
        "        x_reverse=self.reverse_seq(torch.flip(x,dims=[-1]))\n",
        "        out=torch.cat((x_forward,x_reverse),dim=1)\n",
        "        return out #bidirection"
      ],
      "execution_count": null,
      "outputs": []
    },
    {
      "cell_type": "code",
      "metadata": {
        "id": "vulnerable-blackjack",
        "execution": {
          "iopub.status.busy": "2021-11-09T19:14:41.646979Z",
          "iopub.execute_input": "2021-11-09T19:14:41.647655Z",
          "iopub.status.idle": "2021-11-09T19:14:41.657491Z",
          "shell.execute_reply.started": "2021-11-09T19:14:41.647574Z",
          "shell.execute_reply": "2021-11-09T19:14:41.656593Z"
        },
        "trusted": true
      },
      "source": [
        "class AttentionLayer(nn.Module):\n",
        "    \n",
        "    def __init__(self,in_channels,out_channels):\n",
        "        \n",
        "        super(AttentionLayer,self).__init__()\n",
        "        self.conv1=nn.Conv1d(in_channels,out_channels,kernel_size=1)\n",
        "        self.conv2=nn.Conv1d(out_channels,1,kernel_size=1)\n",
        "        self.net=nn.Sequential(\n",
        "        self.conv1,\n",
        "        nn.Tanh(), \n",
        "        nn.Dropout(p=0.5),\n",
        "        self.conv2,\n",
        "        nn.Softmax(dim=-1))\n",
        "        self.weight_initialise()\n",
        "    \n",
        "    def  weight_initialise(self):\n",
        "        \n",
        "        nn.init.xavier_normal_(self.conv1.weight)\n",
        "        nn.init.xavier_normal_(self.conv2.weight)\n",
        "    \n",
        "    def forward(self,x):\n",
        "        \n",
        "        output=torch.sum(x*self.net(x),dim=-1).reshape(x.shape[0],x.shape[1])\n",
        "        return output    #attention"
      ],
      "execution_count": null,
      "outputs": []
    },
    {
      "cell_type": "code",
      "metadata": {
        "id": "brutal-power",
        "execution": {
          "iopub.status.busy": "2021-11-09T19:14:41.658809Z",
          "iopub.execute_input": "2021-11-09T19:14:41.659229Z",
          "iopub.status.idle": "2021-11-09T19:14:41.670048Z",
          "shell.execute_reply.started": "2021-11-09T19:14:41.659195Z",
          "shell.execute_reply": "2021-11-09T19:14:41.669298Z"
        },
        "trusted": true
      },
      "source": [
        "class Classification(nn.Module):\n",
        "    \n",
        "    def __init__(self,input_dim,num_classes,output_nodes,num_layers,dropout=0.7):\n",
        "        \n",
        "        super(Classification,self).__init__()\n",
        "        layers=[]\n",
        "        for i in range(num_layers-1):\n",
        "            in_features=input_dim if i==0 else output_nodes\n",
        "            model=nn.Linear(in_features,output_nodes)\n",
        "            nn.init.kaiming_normal_(model.weight)\n",
        "            layers.append(model)\n",
        "            layers.append(nn.ReLU())\n",
        "            layers.append(nn.Dropout(dropout))\n",
        "        final_class=nn.Linear(output_nodes,num_classes)\n",
        "        nn.init.xavier_normal_(final_class.weight)\n",
        "        layers.append(final_class)\n",
        "        self.net=nn.Sequential(*layers)\n",
        "    \n",
        "    def forward(self,x):\n",
        "        return self.net(x)  #classification"
      ],
      "execution_count": null,
      "outputs": []
    },
    {
      "cell_type": "code",
      "metadata": {
        "id": "alpha-frame",
        "execution": {
          "iopub.status.busy": "2021-11-09T19:14:41.674342Z",
          "iopub.execute_input": "2021-11-09T19:14:41.675134Z",
          "iopub.status.idle": "2021-11-09T19:14:41.682934Z",
          "shell.execute_reply.started": "2021-11-09T19:14:41.675095Z",
          "shell.execute_reply": "2021-11-09T19:14:41.682003Z"
        },
        "trusted": true
      },
      "source": [
        "class Model(nn.Module):\n",
        "    \n",
        "    def __init__(self,num_classes,output_nodes,num_layers,att_channels,input_channels,channel_arr,kernel_size=4,dropout=0.5):\n",
        "        \n",
        "        super(Model,self).__init__()\n",
        "        channel_dim=channel_arr[-1]\n",
        "        self.bidirection=Bidirection(input_channels,channel_arr,kernel_size,dropout)\n",
        "        self.attention=AttentionLayer(2*channel_dim,att_channels)\n",
        "        self.classification=Classification(2*channel_dim,num_classes,output_nodes,num_layers,dropout=0.7)\n",
        "        self.net=nn.Sequential(\n",
        "        self.bidirection,\n",
        "        self.attention,\n",
        "        self.classification)\n",
        "        \n",
        "    def forward(self,x):\n",
        "        \n",
        "        return self.net(x)   #model"
      ],
      "execution_count": null,
      "outputs": []
    },
    {
      "cell_type": "code",
      "metadata": {
        "id": "described-leonard",
        "execution": {
          "iopub.status.busy": "2021-11-09T19:14:41.684321Z",
          "iopub.execute_input": "2021-11-09T19:14:41.684881Z",
          "iopub.status.idle": "2021-11-09T19:14:41.737234Z",
          "shell.execute_reply.started": "2021-11-09T19:14:41.684847Z",
          "shell.execute_reply": "2021-11-09T19:14:41.735920Z"
        },
        "trusted": true
      },
      "source": [
        "EPOCHS=25\n",
        "softmax=nn.Softmax(dim=1)   #do sanity check\n",
        "model=Model(500,128,2,64,EMB_DIM,[64,64],kernel_size=4,dropout=0.5)\n",
        "if torch.cuda.is_available():\n",
        "    model.cuda()\n",
        "    class_weight=class_weight.cuda()\n",
        "loss_fun=nn.CrossEntropyLoss(weight=class_weight)\n",
        "optimizer=optim.Adam(model.parameters(),lr=1e-3,weight_decay=1e-3)\n",
        "ls1=[]\n",
        "ls2=[]\n",
        "loss_history_train=[]\n",
        "loss_history_test=[]\n",
        "for epoch in range(EPOCHS):\n",
        "    class_pred=[]\n",
        "    loss_train=0\n",
        "    model.train()\n",
        "    for i,sample in enumerate(description_train):\n",
        "        target=target_train[i]\n",
        "        out=model(sample)\n",
        "        loss=loss_fun(out,target)\n",
        "        out_target=torch.argmax(softmax(out),dim=1)\n",
        "        #ls1.append(out_target-target_batch)\n",
        "        #ls2.append(out_target)\n",
        "        class_pred.append(out_target)\n",
        "        optimizer.zero_grad()\n",
        "        loss.backward()# if epoch!=0 else loss.backward(retain_graph=True)\n",
        "        optimizer.step()\n",
        "        loss_train+=loss.item()\n",
        "        #print(loss.item())\n",
        "    loss_train=loss_train/len_train\n",
        "    loss_history_train.append(loss_train)\n",
        "    correct_pred=len_train-torch.count_nonzero(torch.tensor(class_pred)-torch.tensor(target_train)).item()\n",
        "    train_acc=correct_pred/len_train\n",
        "    model.eval()\n",
        "    loss_test=0\n",
        "    correct_pred=0\n",
        "    with torch.no_grad():\n",
        "        for i,sample in enumerate(description_test):\n",
        "            target=target_test[i]\n",
        "            out=model(sample)\n",
        "            loss=loss_fun(out,target)\n",
        "            loss_test+=loss.item()\n",
        "            out_target=torch.argmax(softmax(out))\n",
        "            ls1.append(out_target-target)\n",
        "            ls2.append(out_target)\n",
        "            correct_pred+=1 if (out_target-target).item()==0 else 0\n",
        "        loss_test=loss_test/len_test\n",
        "        loss_history_test.append(loss_test)\n",
        "        test_acc=correct_pred/len_test\n",
        "    \n",
        "    print('epoch',epoch,'train_loss %.4f'%loss_train,'test_loss %.4f'%loss_test,'train_acc',train_acc,'test_acc',test_acc)\n",
        "    if (epoch%5==0 and epoch>=5):\n",
        "      checkpoint={'model':Model(500,512,6,512,EMB_DIM,[1024,1024,1024],kernel_size=4,dropout=0.5),\n",
        "           'state_dict':model.state_dict(),\n",
        "           'optimizer': optimizer.state_dict()}\n",
        "      torch.save(checkpoint,'/content/drive/MyDrive/data/checkpoint{}.pth'.format(epoch))\n",
        "\n",
        "    \n",
        "plt.figure()\n",
        "plt.plot(np.arange(EPOCHS),loss_history_test)\n",
        "plt.plot(np.arange(EPOCHS),loss_history_train)\n",
        "plt.legend(['test','train'])\n",
        "plt.show()\n",
        "\n",
        "        \n",
        "        \n",
        "        \n",
        "        \n",
        "        \n",
        "    "
      ],
      "execution_count": null,
      "outputs": []
    }
  ]
}